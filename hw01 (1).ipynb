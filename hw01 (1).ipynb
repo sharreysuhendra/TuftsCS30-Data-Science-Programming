{
 "cells": [
  {
   "cell_type": "code",
   "execution_count": 18,
   "metadata": {
    "deletable": false,
    "editable": false
   },
   "outputs": [],
   "source": [
    "# Initialize Otter\n",
    "import otter\n",
    "grader = otter.Notebook(\"hw01.ipynb\")"
   ]
  },
  {
   "cell_type": "markdown",
   "metadata": {},
   "source": [
    "# Toward functional python\n",
    "In this worksheet, we'll practice with some more advanced forms of Python, including list and set comprehensions, anonymous functions, mapping, and filtering. These are all necessary to accomplish \"functional programming\" in Python. Note that the tests in this section only test that your code works. For full credit, code must also comply with the limits listed for each question. These limits get more stringent as the questions continue. "
   ]
  },
  {
   "cell_type": "markdown",
   "metadata": {},
   "source": [
    "<!-- BEGIN QUESTION -->\n",
    "\n",
    "Question 1: in the cell below, write a function that takes a list of numbers as an argument and filters the list so that numbers more than two standard deviations from the mean on either side are omitted. Use the large sample standard deviation, to wit: $\\sqrt((\\sum_1^n (\\mu - x) ^ 2))/n)$ where $n$ is the number of list elements and $\\mu$ represents their mean. For this question, you can use any method to compute the result. You are allowed to start by using `for` loops for each part, using `list.append` to build the result, the way you would in CS 11 or CS 15."
   ]
  },
  {
   "cell_type": "code",
   "execution_count": 19,
   "metadata": {
    "tags": []
   },
   "outputs": [],
   "source": [
    "from math import sqrt\n",
    "def clean1(data):\n",
    "    result = []\n",
    "    length = len(data)\n",
    "    mean = 0\n",
    "    dev = 0\n",
    "    for x in data:\n",
    "        mean += x\n",
    "    mean = mean/length\n",
    "    for x in data:\n",
    "        dev += (mean - x) ** 2\n",
    "    dev = sqrt(dev/length)\n",
    "    for x in data:\n",
    "        if x < (mean + (2 * dev)) and x > (mean - (2 * dev)):\n",
    "            result.append(x)\n",
    "    return result"
   ]
  },
  {
   "cell_type": "code",
   "execution_count": 20,
   "metadata": {
    "deletable": false,
    "editable": false
   },
   "outputs": [
    {
     "data": {
      "text/html": [
       "<p><strong><pre style='display: inline;'>q1</pre></strong> passed!</p>"
      ],
      "text/plain": [
       "q1 results: All test cases passed!"
      ]
     },
     "execution_count": 20,
     "metadata": {},
     "output_type": "execute_result"
    }
   ],
   "source": [
    "grader.check(\"q1\")"
   ]
  },
  {
   "cell_type": "markdown",
   "metadata": {},
   "source": [
    "<!-- END QUESTION -->\n",
    "\n",
    "<!-- BEGIN QUESTION -->\n",
    "\n",
    "Question 2: Repeat question 1, but eliminate `for` loops in favor of list comprehensions and the use of `sum` for sums. "
   ]
  },
  {
   "cell_type": "code",
   "execution_count": 21,
   "metadata": {
    "tags": []
   },
   "outputs": [],
   "source": [
    "def clean2(data):\n",
    "    length = len(data)\n",
    "    mean = sum(data)/length\n",
    "    d = [(mean - x)**2 for x in data]\n",
    "    dev = sqrt(sum(d)/length)\n",
    "    result = [x for x in data if x < (mean + (2 * dev)) and x  > (mean - (2 * dev))]\n",
    "    return result"
   ]
  },
  {
   "cell_type": "code",
   "execution_count": 22,
   "metadata": {
    "deletable": false,
    "editable": false
   },
   "outputs": [
    {
     "data": {
      "text/html": [
       "<p><strong><pre style='display: inline;'>q2</pre></strong> passed!</p>"
      ],
      "text/plain": [
       "q2 results: All test cases passed!"
      ]
     },
     "execution_count": 22,
     "metadata": {},
     "output_type": "execute_result"
    }
   ],
   "source": [
    "grader.check(\"q2\")"
   ]
  },
  {
   "cell_type": "markdown",
   "metadata": {},
   "source": [
    "<!-- END QUESTION -->\n",
    "\n",
    "<!-- BEGIN QUESTION -->\n",
    "\n",
    "Question 3: Repeat question 1, but this time, eliminate list comprehensions *and* `for` loops in favor of the \"functional programming\" functions map, filter, and lambda. "
   ]
  },
  {
   "cell_type": "code",
   "execution_count": 46,
   "metadata": {
    "tags": []
   },
   "outputs": [],
   "source": [
    "def clean3(data):\n",
    "    length = len(data)\n",
    "    mean = sum(data)/length\n",
    "    d = map(lambda x: (mean - x) ** 2, data)\n",
    "    dev = sqrt(sum(d)/length)\n",
    "    result = filter(lambda x: x < (mean + (2 * dev)) and x > (mean - (2 * dev)), data)\n",
    "    return list(result)"
   ]
  },
  {
   "cell_type": "code",
   "execution_count": 47,
   "metadata": {
    "deletable": false,
    "editable": false
   },
   "outputs": [
    {
     "data": {
      "text/html": [
       "<p><strong><pre style='display: inline;'>q3</pre></strong> passed!</p>"
      ],
      "text/plain": [
       "q3 results: All test cases passed!"
      ]
     },
     "execution_count": 47,
     "metadata": {},
     "output_type": "execute_result"
    }
   ],
   "source": [
    "grader.check(\"q3\")"
   ]
  },
  {
   "cell_type": "markdown",
   "metadata": {},
   "source": [
    "<!-- END QUESTION -->\n",
    "\n",
    "<!-- BEGIN QUESTION -->\n",
    "\n",
    "Question 4: Test whether your solution for Problem 3 works on a `set`, and indicate results below. What works? What doesn't?"
   ]
  },
  {
   "cell_type": "markdown",
   "metadata": {},
   "source": [
    "_Type your answer here, replacing this text._"
   ]
  },
  {
   "cell_type": "code",
   "execution_count": 94,
   "metadata": {
    "tags": []
   },
   "outputs": [
    {
     "name": "stdout",
     "output_type": "stream",
     "text": [
      "Case 1 No duplicates + Increasing order: 1, 4, 8, 10, 21, 56\n",
      "List: [1, 4, 8, 10, 17]\n",
      "Set: [1, 4, 8, 10, 17]\n",
      "\n",
      "Case 2 No duplicates + Random order: 1, 10, 4, 8, 17, 56\n",
      "List: [1, 10, 4, 8, 17]\n",
      "Set: [1, 4, 8, 10, 17]\n",
      "\n",
      "Case 3 Yes duplicates + Increasing order: 1, 4, 4, 8, 10, 17, 56, 56\n",
      "Duplicate List: [1, 4, 4, 8, 10, 17, 56, 56]\n",
      "Duplicate Set: [1, 4, 8, 10, 17]\n",
      "\n",
      "Case 4 Yes duplicates + Random order: 4, 1, 4, 56, 8, 17, 10, 56\n",
      "Duplicate List: [4, 1, 4, 56, 8, 17, 10, 56]\n",
      "Duplicate Set: [1, 4, 8, 10, 17]\n",
      "\n",
      "WHAT WORKS\n",
      "- A set correctly calculates mean and standard deviations for non duplicate containing sets\n",
      "- A set will return a sorted output of values in increasing order \n",
      "\n",
      "WHAT DOESN'T WORK\n",
      "- A set does not correctly calculate mean and standard deviations for duplicate containing sets. \n",
      "- This is because sets do not hold duplicate items, so a number will only count once and another of the same number will be disregarded. \n",
      "- This will then affect the calculation of the mean and standard deviation. In these test cases, a duplicate set from case 3&4 will have the same output as case 1&2. \n",
      "\n",
      "SUMMARY\n",
      "Non duplicate set = correct output\n",
      "Duplicate list = correct output, Duplicate set = wrong output\n",
      "Duplicate set output = Non duplicate set output\n",
      "Any set = sorted output\n"
     ]
    }
   ],
   "source": [
    "# Case 1: List and Set contains NO DUPLICATES and INCREASING ORDER\n",
    "# Observations: \n",
    "# 1. Same output numbers \n",
    "# 2. Numbers are printed based on the order of the list/set given (left to right)\n",
    "print(\"Case 1 No duplicates + Increasing order: 1, 4, 8, 10, 21, 56\")\n",
    "print(\"List: \" + str(clean3([1,4,8,10,17,56])))\n",
    "print(\"Set: \" + str(clean3({1,4,8,10,17,56})) + \"\\n\")\n",
    "\n",
    "# Case 2: List and Set contains NO DUPLICATES and RANDOM ORDER\n",
    "# Observations: \n",
    "# 1. Same output numbers \n",
    "# 2. Orders are different. List output follows the order of the list given. Set output order was sorted in increasing order\n",
    "print(\"Case 2 No duplicates + Random order: 1, 10, 4, 8, 17, 56\")\n",
    "print(\"List: \" + str(clean3([1, 10, 4, 8, 17, 56])))\n",
    "print(\"Set: \" + str(clean3({1, 10, 4, 8, 17, 56})) + \"\\n\")\n",
    "\n",
    "# Case 3: List and Set contains DUPLICATES and INCREASING ORDER\n",
    "# Observations: \n",
    "# 1. Different output numbers - List has 56, Set does not. List contains duplicates, Set does not\n",
    "# 2. Numbers are printed based on the order of the list/set given (left to right)\n",
    "print(\"Case 3 Yes duplicates + Increasing order: 1, 4, 4, 8, 10, 17, 56, 56\")\n",
    "print(\"Duplicate List: \" + str(clean3([1, 4, 4, 8, 10, 17, 56, 56])))\n",
    "print(\"Duplicate Set: \" + str(clean3({1, 4, 4, 8, 10, 17, 56, 56})) + \"\\n\")\n",
    "\n",
    "# Case 4: List and Set contains DUPLICATES and RANDOM ORDER\n",
    "# Observations: \n",
    "# 1. Different output numbers - List has 56, Set does not. List contains duplicates, Set does not\n",
    "# 2. Orders are different. List output follows the order of the list given. Set output order was sorted in increasing order\n",
    "print(\"Case 4 Yes duplicates + Random order: 4, 1, 4, 56, 8, 17, 10, 56\")\n",
    "print(\"Duplicate List: \" + str(clean3([4, 1, 4, 56, 8, 17, 10, 56])))\n",
    "print(\"Duplicate Set: \" + str(clean3({4, 1, 4, 56, 8, 17, 10, 56})) + \"\\n\")\n",
    "\n",
    "print(\"WHAT WORKS\")\n",
    "print(\"- A set correctly calculates mean and standard deviations for non duplicate containing sets\")\n",
    "print(\"- A set will return a sorted output of values in increasing order \\n\")\n",
    "print(\"WHAT DOESN'T WORK\")\n",
    "print(\"- A set does not correctly calculate mean and standard deviations for duplicate containing sets. \")\n",
    "print(\"- This is because sets do not hold duplicate items, so a number will only count once and another of the same number will be disregarded. \")\n",
    "print(\"- This will then affect the calculation of the mean and standard deviation. In these test cases, a duplicate set from case 3&4 will have the same output as case 1&2. \\n\")\n",
    "print(\"SUMMARY\")\n",
    "print(\"Non duplicate set = correct output\\nDuplicate list = correct output, Duplicate set = wrong output\\nDuplicate set output = Non duplicate set output\\nAny set = sorted output\")\n"
   ]
  },
  {
   "cell_type": "markdown",
   "metadata": {},
   "source": [
    "<!-- END QUESTION -->\n",
    "\n"
   ]
  },
  {
   "cell_type": "markdown",
   "metadata": {
    "deletable": false,
    "editable": false
   },
   "source": [
    "---\n",
    "\n",
    "To double-check your work, the cell below will rerun all of the autograder tests."
   ]
  },
  {
   "cell_type": "code",
   "execution_count": 26,
   "metadata": {
    "deletable": false,
    "editable": false
   },
   "outputs": [
    {
     "data": {
      "text/plain": [
       "q1 results: All test cases passed!\n",
       "\n",
       "q2 results: All test cases passed!\n",
       "\n",
       "q3 results: All test cases passed!"
      ]
     },
     "execution_count": 26,
     "metadata": {},
     "output_type": "execute_result"
    }
   ],
   "source": [
    "grader.check_all()"
   ]
  },
  {
   "cell_type": "markdown",
   "metadata": {
    "deletable": false,
    "editable": false
   },
   "source": [
    "## Submission\n",
    "\n",
    "Make sure you have run all cells in your notebook in order before running the cell below, so that all images/graphs appear in the output. The cell below will generate a zip file for you to submit. **Please save before exporting!**\n",
    "\n",
    "You are not done until you upload the exported zipfile to GradeScope."
   ]
  },
  {
   "cell_type": "code",
   "execution_count": null,
   "metadata": {
    "deletable": false,
    "editable": false
   },
   "outputs": [],
   "source": [
    "# Save your notebook first, then run this cell to export your submission.\n",
    "grader.export(pdf=False)"
   ]
  },
  {
   "cell_type": "markdown",
   "metadata": {},
   "source": [
    " "
   ]
  }
 ],
 "metadata": {
  "kernelspec": {
   "display_name": "Python 3",
   "language": "python",
   "name": "python3"
  },
  "language_info": {
   "codemirror_mode": {
    "name": "ipython",
    "version": 3
   },
   "file_extension": ".py",
   "mimetype": "text/x-python",
   "name": "python",
   "nbconvert_exporter": "python",
   "pygments_lexer": "ipython3",
   "version": "3.8.8"
  },
  "otter": {
   "tests": {
    "q1": {
     "name": "q1",
     "points": 2,
     "suites": [
      {
       "cases": [
        {
         "code": ">>> assert clean1([5,6,7,6,5,20]) == [5,6,7,6,5]\n",
         "hidden": false,
         "locked": false
        },
        {
         "code": ">>> assert clean1([5,20,6,7,6,5]) == [5,6,7,6,5]\n",
         "hidden": false,
         "locked": false
        },
        {
         "code": ">>> assert clean1([20,5,6,7,6,5]) == [5,6,7,6,5]\n",
         "hidden": false,
         "locked": false
        }
       ],
       "scored": true,
       "setup": "",
       "teardown": "",
       "type": "doctest"
      }
     ]
    },
    "q2": {
     "name": "q2",
     "points": 1,
     "suites": [
      {
       "cases": [
        {
         "code": ">>> assert clean2([5,6,7,6,5,20]) == [5,6,7,6,5]\n",
         "hidden": false,
         "locked": false
        },
        {
         "code": ">>> assert clean2([5,20,6,7,6,5]) == [5,6,7,6,5]\n",
         "hidden": false,
         "locked": false
        },
        {
         "code": ">>> assert clean2([20,5,6,7,6,5]) == [5,6,7,6,5]\n",
         "hidden": false,
         "locked": false
        }
       ],
       "scored": true,
       "setup": "",
       "teardown": "",
       "type": "doctest"
      }
     ]
    },
    "q3": {
     "name": "q3",
     "points": 1,
     "suites": [
      {
       "cases": [
        {
         "code": ">>> assert clean3([5,6,7,6,5,20]) == [5,6,7,6,5]\n",
         "hidden": false,
         "locked": false
        },
        {
         "code": ">>> assert clean3([5,20,6,7,6,5]) == [5,6,7,6,5]\n",
         "hidden": false,
         "locked": false
        },
        {
         "code": ">>> assert clean3([20,5,6,7,6,5]) == [5,6,7,6,5]\n",
         "hidden": false,
         "locked": false
        }
       ],
       "scored": true,
       "setup": "",
       "teardown": "",
       "type": "doctest"
      }
     ]
    }
   }
  }
 },
 "nbformat": 4,
 "nbformat_minor": 2
}
