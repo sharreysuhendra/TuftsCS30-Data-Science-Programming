{
 "cells": [
  {
   "cell_type": "code",
   "execution_count": 1,
   "metadata": {
    "deletable": false,
    "editable": false
   },
   "outputs": [],
   "source": [
    "# Initialize Otter\n",
    "import otter\n",
    "grader = otter.Notebook(\"hw03.ipynb\")"
   ]
  },
  {
   "cell_type": "markdown",
   "metadata": {},
   "source": [
    "# Classes, inheritance, and exceptions\n",
    "In this homework, we'll explore some of the subtleties of classes, inheritance, and execeptions, in our journey toward understanding how a reusable class is constructed. \n",
    "\n",
    "Let's construct a class that implements the \"likes\" relationship in FaceBook. Here's an example from a previous homework:  "
   ]
  },
  {
   "cell_type": "code",
   "execution_count": 2,
   "metadata": {},
   "outputs": [
    {
     "name": "stdout",
     "output_type": "stream",
     "text": [
      "{'Amy': {'Mike'},\n",
      " 'Emily': {'Amy'},\n",
      " 'George': {'Emily', 'Mae', 'Frank'},\n",
      " 'John': {'Amy', 'Mike'},\n",
      " 'Mae': {'John'}}\n"
     ]
    }
   ],
   "source": [
    "data = { \n",
    "     'Amy': {'Mike'}, \n",
    "     'John': {'Mike', 'Amy'}, \n",
    "     'Emily': {'Amy'},\n",
    "     'George': {'Frank', 'Emily', 'Mae'}, \n",
    "     'Mae': {'John'}\n",
    "}\n",
    "from pprint import pprint\n",
    "pprint(data)"
   ]
  },
  {
   "cell_type": "markdown",
   "metadata": {},
   "source": [
    "<!-- BEGIN QUESTION -->\n",
    "\n",
    "Question 1: in the cell below, construct a class Likes that has the following specifications:  \n",
    "1. A method likes(self, x, y) that returns `True` if x likes y, and `False` otherwise. \n",
    "2. A method add(self, x, y) that adds the fact \"x likes y\". \n",
    "3. A method remove(self, x, y) that removes the fact that \"x likes y\", if any such fact is present. "
   ]
  },
  {
   "cell_type": "code",
   "execution_count": 61,
   "metadata": {
    "tags": []
   },
   "outputs": [],
   "source": [
    "class Likes: \n",
    "    data = dict()\n",
    "    def __init__(self, data = None): \n",
    "        if data is not None: \n",
    "            self.data = data\n",
    "        else: \n",
    "            self.data = dict()\n",
    "            \n",
    "    def likes(self, x, y): \n",
    "        if x in self.data:\n",
    "            if y in self.data[x]:\n",
    "                    return True\n",
    "        return False\n",
    "    \n",
    "    def add(self, x, y): \n",
    "        if x in self.data:\n",
    "            update = self.data[x]\n",
    "            update = {self.data[x], y}\n",
    "            self.data[x] = update\n",
    "        else:\n",
    "            self.data[x] = y\n",
    "                \n",
    "    def remove(self, x, y): \n",
    "        keep = []\n",
    "        if self.likes(x, y):\n",
    "            for i in self.data[x]:\n",
    "                if i != y:\n",
    "                    keep.append(i)\n",
    "            del self.data[x]\n",
    "            self.data[x] = keep"
   ]
  },
  {
   "cell_type": "code",
   "execution_count": 62,
   "metadata": {
    "deletable": false,
    "editable": false
   },
   "outputs": [
    {
     "data": {
      "text/html": [
       "<p><strong><pre style='display: inline;'>q1</pre></strong> passed!</p>"
      ],
      "text/plain": [
       "q1 results: All test cases passed!"
      ]
     },
     "execution_count": 62,
     "metadata": {},
     "output_type": "execute_result"
    }
   ],
   "source": [
    "grader.check(\"q1\")"
   ]
  },
  {
   "cell_type": "markdown",
   "metadata": {},
   "source": [
    "<!-- END QUESTION -->\n",
    "\n",
    "<!-- BEGIN QUESTION -->\n",
    "\n",
    "Question 2:  Create a subclass of `Likes` called `BetterLikes` that satisfies the following additional properties. \n",
    "1. If you give the constructor a non-conforming dictionary in the constructor, it raises a `TypeError` built-in exception. \n",
    "2. If you give any method a parameter that is not a string, it raises a `TypeError` exception. \n",
    "In other words, catch all type errors in methods. The point of this is that the user can't feed garbage to the class in any way. Otherwise, you can verify that garbage in input causes unpredictable behavior. "
   ]
  },
  {
   "cell_type": "code",
   "execution_count": 146,
   "metadata": {
    "tags": []
   },
   "outputs": [],
   "source": [
    "class BetterLikes(Likes):\n",
    "    def __init__(self, data=None):\n",
    "        if data is None: \n",
    "            data = dict()\n",
    "            \n",
    "        wrong = False\n",
    "        \n",
    "        if (type(data) is dict):\n",
    "            for i in data:\n",
    "                depth = 0\n",
    "                str_data = str(data[i])\n",
    "                for j in str_data:\n",
    "                    if (j == \"{\" or j == \":\"):\n",
    "                        depth += 1\n",
    "                if (depth != 1):\n",
    "                    wrong = True\n",
    "\n",
    "        if (type(data) is dict and not wrong):\n",
    "            super(BetterLikes, self).__init__(data)\n",
    "        else: \n",
    "            raise TypeError(\"non-conforming dictionary\")\n",
    "            \n",
    "    def likes(self, x, y): \n",
    "        if (self.checkStr(x) and self.checkStr(y)):\n",
    "            return super(BetterLikes, self).likes(x, y) \n",
    "            \n",
    "    def add(self, x, y): \n",
    "        if (self.checkStr(x) and self.checkStr(y)):\n",
    "            super(BetterLikes, self).add(x, y) \n",
    "        \n",
    "    def remove(self, x, y): \n",
    "        if (self.checkStr(x) and self.checkStr(y)):\n",
    "            super(BetterLikes, self).remove(x, y)\n",
    "    \n",
    "    def checkStr(self, s):\n",
    "        if (type(s) is str):\n",
    "            return True\n",
    "        else:\n",
    "            raise TypeError(\"not a string\")         "
   ]
  },
  {
   "cell_type": "code",
   "execution_count": 147,
   "metadata": {
    "deletable": false,
    "editable": false
   },
   "outputs": [
    {
     "data": {
      "text/html": [
       "<p><strong><pre style='display: inline;'>q2</pre></strong> passed!</p>"
      ],
      "text/plain": [
       "q2 results: All test cases passed!"
      ]
     },
     "execution_count": 147,
     "metadata": {},
     "output_type": "execute_result"
    }
   ],
   "source": [
    "grader.check(\"q2\")"
   ]
  },
  {
   "cell_type": "markdown",
   "metadata": {},
   "source": [
    "<!-- END QUESTION -->\n",
    "\n"
   ]
  },
  {
   "cell_type": "markdown",
   "metadata": {
    "deletable": false,
    "editable": false
   },
   "source": [
    "---\n",
    "\n",
    "To double-check your work, the cell below will rerun all of the autograder tests."
   ]
  },
  {
   "cell_type": "code",
   "execution_count": null,
   "metadata": {
    "deletable": false,
    "editable": false
   },
   "outputs": [],
   "source": [
    "grader.check_all()"
   ]
  },
  {
   "cell_type": "markdown",
   "metadata": {
    "deletable": false,
    "editable": false
   },
   "source": [
    "## Submission\n",
    "\n",
    "Make sure you have run all cells in your notebook in order before running the cell below, so that all images/graphs appear in the output. The cell below will generate a zip file for you to submit. **Please save before exporting!**\n",
    "\n",
    "You are not done until you upload the exported zipfile to GradeScope."
   ]
  },
  {
   "cell_type": "code",
   "execution_count": null,
   "metadata": {
    "deletable": false,
    "editable": false
   },
   "outputs": [],
   "source": [
    "# Save your notebook first, then run this cell to export your submission.\n",
    "grader.export(pdf=False)"
   ]
  },
  {
   "cell_type": "markdown",
   "metadata": {},
   "source": [
    " "
   ]
  }
 ],
 "metadata": {
  "kernelspec": {
   "display_name": "Python 3",
   "language": "python",
   "name": "python3"
  },
  "language_info": {
   "codemirror_mode": {
    "name": "ipython",
    "version": 3
   },
   "file_extension": ".py",
   "mimetype": "text/x-python",
   "name": "python",
   "nbconvert_exporter": "python",
   "pygments_lexer": "ipython3",
   "version": "3.8.8"
  },
  "otter": {
   "tests": {
    "q1": {
     "name": "q1",
     "points": 3,
     "suites": [
      {
       "cases": [
        {
         "code": ">>> data = { \n...      'Amy': {'Mike'}, \n...      'John': {'Mike', 'Amy'}, \n...      'Emily': {'Amy'},\n...      'George': {'Frank', 'Emily', 'Mae'}, \n...      'Mae': {'John'}}\n>>> li = Likes(data)\n>>> assert li.likes('Amy', 'Mike')\n>>> assert not li.likes('Amy', 'George')\n",
         "hidden": false,
         "locked": false
        },
        {
         "code": ">>> li = Likes()\n>>> li.add('Frank', 'Michelle')\n>>> assert li.likes('Frank', 'Michelle')\n",
         "hidden": false,
         "locked": false
        },
        {
         "code": ">>> li = Likes()\n>>> assert not li.likes('Frank', 'Michelle')\n>>> assert not li.likes('Frank', 'George')\n>>> li.add('Frank', 'Michelle')\n>>> li.add('Frank', 'George')\n>>> assert li.likes('Frank', 'George')\n>>> assert li.likes('Frank', 'Michelle')\n",
         "hidden": false,
         "locked": false
        },
        {
         "code": ">>> data = { \n...      'Amy': {'Mike'}, \n...      'John': {'Mike', 'Amy'}, \n...      'Emily': {'Amy'},\n...      'George': {'Frank', 'Emily', 'Mae'}, \n...      'Mae': {'John'}}\n>>> li = Likes(data)\n>>> assert li.likes('George', 'Mae')\n>>> li.remove('George', 'Mae')\n>>> assert not li.likes('George', 'Mae')\n",
         "hidden": false,
         "locked": false
        },
        {
         "code": ">>> li = Likes() \n>>> li.remove(\"George\", \"Mae\")\n",
         "hidden": false,
         "locked": false
        }
       ],
       "scored": true,
       "setup": "",
       "teardown": "",
       "type": "doctest"
      }
     ]
    },
    "q2": {
     "name": "q2",
     "points": 3,
     "suites": [
      {
       "cases": [
        {
         "code": ">>> data = { \n...      'Amy': {'Mike'}, \n...      'John': {'Mike', 'Amy'}, \n...      'Emily': {'Amy'},\n...      'George': {'Frank', 'Emily', 'Mae'}, \n...      'Mae': {'John'}}\n>>> li = BetterLikes(data)\n>>> assert li.likes('Amy', 'Mike')\n>>> assert not li.likes('Amy', 'George')\n",
         "hidden": false,
         "locked": false
        },
        {
         "code": ">>> li = BetterLikes()\n>>> li.add('Frank', 'Michelle')\n>>> assert li.likes('Frank', 'Michelle')\n",
         "hidden": false,
         "locked": false
        },
        {
         "code": ">>> li = BetterLikes()\n>>> assert not li.likes('Frank', 'Michelle')\n>>> assert not li.likes('Frank', 'George')\n>>> li.add('Frank', 'Michelle')\n>>> li.add('Frank', 'George')\n>>> assert li.likes('Frank', 'George')\n>>> assert li.likes('Frank', 'Michelle')\n",
         "hidden": false,
         "locked": false
        },
        {
         "code": ">>> data = { \n...      'Amy': {'Mike'}, \n...      'John': {'Mike', 'Amy'}, \n...      'Emily': {'Amy'},\n...      'George': {'Frank', 'Emily', 'Mae'}, \n...      'Mae': {'John'}}\n>>> li = BetterLikes(data)\n>>> assert li.likes('George', 'Mae')\n>>> li.remove('George', 'Mae')\n>>> assert not li.likes('George', 'Mae')\n",
         "hidden": false,
         "locked": false
        },
        {
         "code": ">>> try: \n...     foo = BetterLikes(set())\n...     print(\"type error not caught\")\n... except TypeError: \n...     pass\n",
         "hidden": false,
         "locked": false
        },
        {
         "code": ">>> try: \n...     foo = BetterLikes({'amy': {'george': 1}})\n...     print(\"type error not caught\")\n... except TypeError: \n...     pass\n",
         "hidden": false,
         "locked": false
        },
        {
         "code": ">>> foo = BetterLikes({})\n>>> try: \n...     foo.add('George', set())\n...     print(\"type error not caught\")\n... except TypeError: \n...     pass\n",
         "hidden": false,
         "locked": false
        },
        {
         "code": ">>> foo = BetterLikes({})\n>>> try: \n...     foo.remove(set(), 'George')\n...     print(\"type error not caught\")\n... except TypeError: \n...     pass\n",
         "hidden": false,
         "locked": false
        }
       ],
       "scored": true,
       "setup": "",
       "teardown": "",
       "type": "doctest"
      }
     ]
    }
   }
  }
 },
 "nbformat": 4,
 "nbformat_minor": 2
}
