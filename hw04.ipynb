{
 "cells": [
  {
   "cell_type": "code",
   "execution_count": 1,
   "metadata": {
    "deletable": false,
    "editable": false
   },
   "outputs": [],
   "source": [
    "# Initialize Otter\n",
    "import otter\n",
    "grader = otter.Notebook(\"hw04.ipynb\")"
   ]
  },
  {
   "cell_type": "markdown",
   "metadata": {},
   "source": [
    "# Functional programming with Pandas Series. \n",
    "In this homework, we'll explore some of the features of Pandas that allow one to program without iterative loops. This can be a bit mind-twisting, but it's a better way to implement in these languages. \n",
    "\n",
    "In this assignment, try to accomplish the tasks below without using loops, comprehensions, mapping, filtering, and reduction operations in Python. Instead, use the functions available in `Series` to accomplish the same aims, including conditional syntax inside `[]`, `Series.groupby`, etc.  \n",
    "\n",
    "Also, I feel it fair to warn you that questions 1-4 are relatively easy and *question 5 is a mind-bender.* It is best to think of questions 1-4 as \"preparation\" for question 5. "
   ]
  },
  {
   "cell_type": "code",
   "execution_count": 2,
   "metadata": {},
   "outputs": [],
   "source": [
    "# Run this first to load all libraries. \n",
    "import numpy as np\n",
    "import pandas as pd"
   ]
  },
  {
   "cell_type": "markdown",
   "metadata": {},
   "source": [
    "<!-- BEGIN QUESTION -->\n",
    "\n",
    "*Question 1:* In the cell below, construct a function that takes as input a Pandas `Series` and removes all values less than zero. \n",
    "\n",
    "*Hint:* Use `Series` conditional array slice notation.\n",
    "\n",
    "Example: `gezero(pd.Series([-1, 4, -4, 5, 7]))` returns \n",
    "```\n",
    "1    4\n",
    "3    5\n",
    "4    7\n",
    "dtype: int64\n",
    "```"
   ]
  },
  {
   "cell_type": "code",
   "execution_count": 3,
   "metadata": {
    "tags": []
   },
   "outputs": [],
   "source": [
    "def gezero(thing): \n",
    "    return thing[thing >= 0]"
   ]
  },
  {
   "cell_type": "code",
   "execution_count": 4,
   "metadata": {},
   "outputs": [
    {
     "data": {
      "text/plain": [
       "1    4\n",
       "3    5\n",
       "4    7\n",
       "dtype: int64"
      ]
     },
     "execution_count": 4,
     "metadata": {},
     "output_type": "execute_result"
    }
   ],
   "source": [
    "# This will help you test. \n",
    "gezero(pd.Series([-1, 4, -4, 5, 7]))"
   ]
  },
  {
   "cell_type": "code",
   "execution_count": 5,
   "metadata": {
    "deletable": false,
    "editable": false
   },
   "outputs": [
    {
     "data": {
      "text/html": [
       "<p><strong><pre style='display: inline;'>q1</pre></strong> passed!</p>"
      ],
      "text/plain": [
       "q1 results: All test cases passed!"
      ]
     },
     "execution_count": 5,
     "metadata": {},
     "output_type": "execute_result"
    }
   ],
   "source": [
    "grader.check(\"q1\")"
   ]
  },
  {
   "cell_type": "markdown",
   "metadata": {},
   "source": [
    "<!-- END QUESTION -->\n",
    "\n",
    "<!-- BEGIN QUESTION -->\n",
    "\n",
    "*Question 2:*  Read up on `groupby` functionality in `Series`, and then write a function `sums` that takes a single `Series` as an argument and returns a new `Series` containing the sums of the values with the same index name. Example: if \n",
    "```\n",
    "foo = pd.Series([1, 2, 3, 1, 1, 2, 5], ['alice', 'george', 'alice', 'alice', 'frank', 'george', 'george'])\n",
    "```\n",
    "then `sums(foo)` returns: \n",
    "```\n",
    "alice     5\n",
    "frank     1\n",
    "george    9\n",
    "dtype: int64\n",
    "```"
   ]
  },
  {
   "cell_type": "code",
   "execution_count": 6,
   "metadata": {
    "tags": []
   },
   "outputs": [],
   "source": [
    "def sums(s): \n",
    "    return s.groupby(level=0).sum()"
   ]
  },
  {
   "cell_type": "code",
   "execution_count": 7,
   "metadata": {},
   "outputs": [
    {
     "data": {
      "text/plain": [
       "alice     5\n",
       "frank     1\n",
       "george    9\n",
       "dtype: int64"
      ]
     },
     "execution_count": 7,
     "metadata": {},
     "output_type": "execute_result"
    }
   ],
   "source": [
    "# This will help you test. \n",
    "foo = pd.Series([1, 2, 3, 1, 1, 2, 5], ['alice', 'george', 'alice', 'alice', 'frank', 'george', 'george'])\n",
    "sums(foo)"
   ]
  },
  {
   "cell_type": "code",
   "execution_count": 8,
   "metadata": {
    "deletable": false,
    "editable": false
   },
   "outputs": [
    {
     "data": {
      "text/html": [
       "<p><strong><pre style='display: inline;'>q2</pre></strong> passed!</p>"
      ],
      "text/plain": [
       "q2 results: All test cases passed!"
      ]
     },
     "execution_count": 8,
     "metadata": {},
     "output_type": "execute_result"
    }
   ],
   "source": [
    "grader.check(\"q2\")"
   ]
  },
  {
   "cell_type": "markdown",
   "metadata": {},
   "source": [
    "<!-- END QUESTION -->\n",
    "\n",
    "<!-- BEGIN QUESTION -->\n",
    "\n",
    "*Question 3:*  *Binning* is a practice that reduces the size of data by grouping similar values. Write a function `bin` with two arguments: a `Series` to be binned and the `size` of each bin. Return a `Series` that represents the mean of values in each bin, where the index is the midpoint of the bin. Each bin starts at a multiple of `size` and encompasses all values greater than or equal to `midpoint - size/2` and strictly less than `midpoint + size/2`.\n",
    "\n",
    "Hint: the midpoint of the bin for a value `v` is  `math.floor(v/size)*size + size/2`. Define the groups via a `lambda` expression. \n",
    "\n",
    "Caveat: please try to do this without using the `Scipy` binning functions. They aren't guaranteed to get past the grading checks. \n",
    "\n",
    "Example: if \n",
    "```\n",
    "foo = pd.Series([1.0, 2.0, 3.0, 4.0, 5.0])\n",
    "```\n",
    "then `bin(foo, 2.0)` returns\n",
    "```\n",
    "1.0    1.0\n",
    "3.0    2.5\n",
    "5.0    4.5\n",
    "dtype: float64\n",
    "```\n"
   ]
  },
  {
   "cell_type": "code",
   "execution_count": 9,
   "metadata": {
    "tags": []
   },
   "outputs": [],
   "source": [
    "import math\n",
    "def bin(s, size): \n",
    "    x = lambda a: (math.floor(a/size)*size + size/2)\n",
    "    ind = list(set(s.apply(x)))\n",
    "    grp = s.groupby(s.apply(x)).mean()\n",
    "    result = pd.Series(grp, ind)\n",
    "    return result"
   ]
  },
  {
   "cell_type": "code",
   "execution_count": 10,
   "metadata": {},
   "outputs": [
    {
     "name": "stdout",
     "output_type": "stream",
     "text": [
      "0    1.0\n",
      "1    2.0\n",
      "2    3.0\n",
      "3    4.0\n",
      "4    5.0\n",
      "dtype: float64\n"
     ]
    },
    {
     "data": {
      "text/plain": [
       "1.0    1.0\n",
       "3.0    2.5\n",
       "5.0    4.5\n",
       "dtype: float64"
      ]
     },
     "execution_count": 10,
     "metadata": {},
     "output_type": "execute_result"
    }
   ],
   "source": [
    "# This will help you test. \n",
    "foo = pd.Series([1.0, 2.0, 3.0, 4.0, 5.0])\n",
    "print(foo)\n",
    "bin(foo, 2.0)"
   ]
  },
  {
   "cell_type": "code",
   "execution_count": 11,
   "metadata": {
    "deletable": false,
    "editable": false
   },
   "outputs": [
    {
     "data": {
      "text/html": [
       "<p><strong><pre style='display: inline;'>q3</pre></strong> passed!</p>"
      ],
      "text/plain": [
       "q3 results: All test cases passed!"
      ]
     },
     "execution_count": 11,
     "metadata": {},
     "output_type": "execute_result"
    }
   ],
   "source": [
    "grader.check(\"q3\")"
   ]
  },
  {
   "cell_type": "markdown",
   "metadata": {},
   "source": [
    "<!-- END QUESTION -->\n",
    "\n",
    "<!-- BEGIN QUESTION -->\n",
    "\n",
    "*Question 4:* Write a function `freq` that bins by frequency for a fixed bin size `size`, using the midpoint of the bin as the index and the frequency of data in that bin as the value. \n",
    "\n",
    "*Hint:* modify the formula from Question 3 as needed.\n",
    "\n",
    "Example: if \n",
    "```\n",
    "foo = pd.Series([1, 2, 3.5, 2.5, 1.5, 2.5, 10])\n",
    "```\n",
    "then `freq(foo, 2)` returns\n",
    "```\n",
    "1.0     2\n",
    "3.0     4\n",
    "11.0    1\n",
    "dtype: int64\n",
    "```"
   ]
  },
  {
   "cell_type": "code",
   "execution_count": 12,
   "metadata": {
    "tags": []
   },
   "outputs": [],
   "source": [
    "def freq(s, size): \n",
    "    x = lambda a: (math.floor(a/size)*size + size/2)\n",
    "    ind = list(set(s.apply(x)))\n",
    "    grp = s.groupby(s.apply(x)).count()\n",
    "    result = pd.Series(grp, ind)\n",
    "    return result"
   ]
  },
  {
   "cell_type": "code",
   "execution_count": 13,
   "metadata": {},
   "outputs": [
    {
     "data": {
      "text/plain": [
       "11.0    1\n",
       "1.0     4\n",
       "3.0     4\n",
       "dtype: int64"
      ]
     },
     "execution_count": 13,
     "metadata": {},
     "output_type": "execute_result"
    }
   ],
   "source": [
    "# This will help you test. \n",
    "foo = pd.Series([0, 0.5, 1, 2, 3.5, 2.5, 1.5, 2.5, 10])\n",
    "freq(foo, 2)"
   ]
  },
  {
   "cell_type": "code",
   "execution_count": 14,
   "metadata": {
    "deletable": false,
    "editable": false
   },
   "outputs": [
    {
     "data": {
      "text/html": [
       "<p><strong><pre style='display: inline;'>q4</pre></strong> passed!</p>"
      ],
      "text/plain": [
       "q4 results: All test cases passed!"
      ]
     },
     "execution_count": 14,
     "metadata": {},
     "output_type": "execute_result"
    }
   ],
   "source": [
    "grader.check(\"q4\")"
   ]
  },
  {
   "cell_type": "markdown",
   "metadata": {},
   "source": [
    "<!-- END QUESTION -->\n",
    "\n",
    "<!-- BEGIN QUESTION -->\n",
    "\n",
    "*Question 5:* It's really common to want to bin by something other than equal intervals. Write a function `cut` that takes two arguments: a series `s` to be binned and a series `cutoffs` of the high (maximum) cutoff points for each bin. It should return bins with the counts of each interval in the cutoffs set. Label each bin with its cutoff index.\n",
    "\n",
    "Example: if `cutoffs` is \n",
    "```\n",
    "cutoffs = pd.Series([1.0, 7.0, 10.0], ['low', 'middle', 'high'])\n",
    "```\n",
    "then the desired bins are \n",
    "* `low` <= 1.0\n",
    "* `middle` > 1.0 and <= 7.0\n",
    "* `high` > 7.0 and <= 10.0\n",
    "Values greater than 'high' are ignored. \n",
    "\n",
    "The result of calling  `cut(pd.Series(range(20), cutoffs)` is: \n",
    "```\n",
    "high      3\n",
    "low       2\n",
    "medium    6\n",
    "dtype: int64\n",
    "```\n",
    "Note particularly that values 11-20 of `range(20)` are ignored. \n",
    "\n",
    "*Hint:* this is a sophisticated use of `groupby`. It's best to write a new categorization function for `groupby` using `numpy.searchsorted` to search for the greatest value less than a specific value. It's easiest to filter out the values > the maximum of `cutoffs` first; otherwise `numpy.searchsorted` will raise an exception.  \n",
    "\n",
    "*Comment:* It is ironic that this is harder for a `Series` than for a `DataFrame`."
   ]
  },
  {
   "cell_type": "code",
   "execution_count": 15,
   "metadata": {
    "tags": []
   },
   "outputs": [],
   "source": [
    "def category(data, idx, s, cutoffs):\n",
    "    cat = 0\n",
    "    for i in idx:\n",
    "        if data <= s.at[i]:\n",
    "            return cutoffs[cutoffs==cutoffs[cat]].index[0]\n",
    "        cat += 1\n",
    "\n",
    "def cut(s, cutoffs): \n",
    "    s.sort_values(ascending=True)\n",
    "    s = s.drop(s[s > cutoffs.max()].index)\n",
    "    idx = np.searchsorted(s, cutoffs)\n",
    "    x = lambda a: category(a, idx, s, cutoffs)\n",
    "    grp = s.groupby(s.apply(x)).count()\n",
    "    result = pd.Series(grp, cutoffs.index)\n",
    "    return result\n",
    "\n",
    "\n",
    "last = cutoffs.iloc[-1]\n",
    "    copy_s = s.copy()\n",
    "    filt = s[copy_s <= last]\n",
    "    one = []\n",
    "    one.append(filt.searchsorted(cutoffs[0]) + 1)\n",
    "    midhigh = filt[filt > cutoffs[0]]\n",
    "    if cutoffs[1] != last:\n",
    "        one.append(midhigh.searchsorted(cutoffs[1]) + 1)\n",
    "        midhigh = midhigh[midhigh > cutoffs[1]]\n",
    "    one.append(len(midhigh))\n",
    "    result = pd.Series(one, cutoffs.index)"
   ]
  },
  {
   "cell_type": "code",
   "execution_count": 16,
   "metadata": {},
   "outputs": [
    {
     "data": {
      "text/plain": [
       "low       2\n",
       "medium    6\n",
       "high      3\n",
       "dtype: int64"
      ]
     },
     "execution_count": 16,
     "metadata": {},
     "output_type": "execute_result"
    }
   ],
   "source": [
    "# This will help you test. \n",
    "foo = pd.Series(range(20))\n",
    "cutter = pd.Series([1.0, 7.0, 10.0], ['low', 'medium', 'high'])\n",
    "cut(foo, cutter)"
   ]
  },
  {
   "cell_type": "code",
   "execution_count": 17,
   "metadata": {
    "deletable": false,
    "editable": false
   },
   "outputs": [
    {
     "data": {
      "text/html": [
       "<p><strong><pre style='display: inline;'>q5</pre></strong> passed!</p>"
      ],
      "text/plain": [
       "q5 results: All test cases passed!"
      ]
     },
     "execution_count": 17,
     "metadata": {},
     "output_type": "execute_result"
    }
   ],
   "source": [
    "grader.check(\"q5\")"
   ]
  },
  {
   "cell_type": "markdown",
   "metadata": {},
   "source": [
    "<!-- END QUESTION -->\n",
    "\n"
   ]
  },
  {
   "cell_type": "markdown",
   "metadata": {
    "deletable": false,
    "editable": false
   },
   "source": [
    "---\n",
    "\n",
    "To double-check your work, the cell below will rerun all of the autograder tests."
   ]
  },
  {
   "cell_type": "code",
   "execution_count": 295,
   "metadata": {
    "deletable": false,
    "editable": false
   },
   "outputs": [
    {
     "data": {
      "text/plain": [
       "q1 results: All test cases passed!\n",
       "\n",
       "q2 results: All test cases passed!\n",
       "\n",
       "q3 results: All test cases passed!\n",
       "\n",
       "q4 results: All test cases passed!\n",
       "\n",
       "q5 results: All test cases passed!"
      ]
     },
     "execution_count": 295,
     "metadata": {},
     "output_type": "execute_result"
    }
   ],
   "source": [
    "grader.check_all()"
   ]
  },
  {
   "cell_type": "markdown",
   "metadata": {
    "deletable": false,
    "editable": false
   },
   "source": [
    "## Submission\n",
    "\n",
    "Make sure you have run all cells in your notebook in order before running the cell below, so that all images/graphs appear in the output. The cell below will generate a zip file for you to submit. **Please save before exporting!**\n",
    "\n",
    "You are not done until you upload the exported zipfile to GradeScope."
   ]
  },
  {
   "cell_type": "code",
   "execution_count": 296,
   "metadata": {
    "deletable": false,
    "editable": false
   },
   "outputs": [
    {
     "data": {
      "text/html": [
       "\n",
       "            <p>Your submission has been exported. Click <a href=\"hw04_2021_10_17T01_16_51_211124.zip\" download=\"hw04_2021_10_17T01_16_51_211124.zip\" target=\"_blank\">here</a>\n",
       "            to download the zip file.</p>\n",
       "            "
      ],
      "text/plain": [
       "<IPython.core.display.HTML object>"
      ]
     },
     "metadata": {},
     "output_type": "display_data"
    }
   ],
   "source": [
    "# Save your notebook first, then run this cell to export your submission.\n",
    "grader.export(pdf=False)"
   ]
  },
  {
   "cell_type": "markdown",
   "metadata": {},
   "source": [
    " "
   ]
  }
 ],
 "metadata": {
  "kernelspec": {
   "display_name": "Python 3 (ipykernel)",
   "language": "python",
   "name": "python3"
  },
  "language_info": {
   "codemirror_mode": {
    "name": "ipython",
    "version": 3
   },
   "file_extension": ".py",
   "mimetype": "text/x-python",
   "name": "python",
   "nbconvert_exporter": "python",
   "pygments_lexer": "ipython3",
   "version": "3.8.11"
  },
  "otter": {
   "tests": {
    "q1": {
     "name": "q1",
     "points": 1,
     "suites": [
      {
       "cases": [
        {
         "code": ">>> stuff = gezero(np.array([-1, 4, 5, 2, 3]))\n>>> assert len(stuff) == 4\n>>> assert (gezero(stuff) == np.array([4, 5, 2, 3])).all()\n",
         "hidden": false,
         "locked": false
        },
        {
         "code": ">>> stuff = gezero(np.array([-2, -5, -6, -4, 3]))\n>>> assert len(stuff) == 1\n>>> assert stuff[0] == 3\n",
         "hidden": false,
         "locked": false
        }
       ],
       "scored": true,
       "setup": "",
       "teardown": "",
       "type": "doctest"
      }
     ]
    },
    "q2": {
     "name": "q2",
     "points": 1,
     "suites": [
      {
       "cases": [
        {
         "code": ">>> bar1 = pd.Series([1, 1, 1, 1, 1], ['alice',  'alice', 'alice', 'alice', 'alice'])\n>>> bar2 = sums(bar1)\n>>> assert len(bar2) == 1\n>>> assert bar2['alice'] == 5\n",
         "hidden": false,
         "locked": false
        },
        {
         "code": ">>> bar1 = pd.Series([1, 1, 1, 1, 1], ['alice',  'frank', 'george', 'sarah', 'ben'])\n>>> bar2 = sums(bar1)\n>>> assert len(bar2) == 5\n>>> assert set(bar1.index) == set(bar2.index)\n>>> assert (bar2 == 1).all()\n",
         "hidden": false,
         "locked": false
        }
       ],
       "scored": true,
       "setup": "",
       "teardown": "",
       "type": "doctest"
      }
     ]
    },
    "q3": {
     "name": "q3",
     "points": 1,
     "suites": [
      {
       "cases": [
        {
         "code": ">>> bar1 = pd.Series([1, 2, 3, 4, 5])\n>>> bar2 = bin(bar1,1)\n>>> assert len(bar2) == 5\n>>> assert (set(bar1) == set(bar2))\n",
         "hidden": false,
         "locked": false
        },
        {
         "code": ">>> bar1 = pd.Series([1, 1, 1, 1, 1])\n>>> bar2 = bin(bar1, 2.0)\n>>> assert len(bar2) == 1\n>>> assert bar2[1.0] == 1\n",
         "hidden": false,
         "locked": false
        },
        {
         "code": ">>> bar1 = pd.Series([1, 2, 3, 4, 5])\n>>> bar2 = bin(bar1, 2.0)\n>>> assert len(bar2) == 3\n>>> assert set(bar2) == set([1, 2.5, 4.5])\n",
         "hidden": false,
         "locked": false
        }
       ],
       "scored": true,
       "setup": "",
       "teardown": "",
       "type": "doctest"
      }
     ]
    },
    "q4": {
     "name": "q4",
     "points": 1,
     "suites": [
      {
       "cases": [
        {
         "code": ">>> bar1 = pd.Series([1, 2, 3.5, 2.5, 1.5, 2.5, 9])\n>>> bar2 = freq(bar1, 2)\n>>> assert len(bar2) == 3\n>>> assert set(bar2.index) == set([1.0, 3.0, 9.0])\n",
         "hidden": false,
         "locked": false
        },
        {
         "code": ">>> bar1 = pd.Series([1, 2, 3, 4, 5])\n>>> bar2 = freq(bar1, 1.0)\n>>> assert len(bar2) == 5\n>>> assert set(bar2.index) == set([1.5, 2.5, 3.5, 4.5, 5.5])\n",
         "hidden": false,
         "locked": false
        }
       ],
       "scored": true,
       "setup": "",
       "teardown": "",
       "type": "doctest"
      }
     ]
    },
    "q5": {
     "name": "q5",
     "points": 1,
     "suites": [
      {
       "cases": [
        {
         "code": ">>> bar1 = pd.Series([1, 2, 3, 4, 5])\n>>> cuts = pd.Series([1.0, 2.0], ['low', 'high'])\n>>> bar2 = cut(bar1, cuts)\n>>> assert len(bar2) == 2\n>>> assert bar2['low'] == 1\n>>> assert bar2['high'] == 1\n",
         "hidden": false,
         "locked": false
        },
        {
         "code": ">>> bar1 = pd.Series([1, 2, 3, 4, 5])\n>>> cuts = pd.Series([2.0, 5.0], ['low', 'high'])\n>>> bar2 = cut(bar1, cuts)\n>>> assert bar2['low'] == 2\n>>> assert bar2['high'] == 3\n",
         "hidden": false,
         "locked": false
        }
       ],
       "scored": true,
       "setup": "",
       "teardown": "",
       "type": "doctest"
      }
     ]
    }
   }
  }
 },
 "nbformat": 4,
 "nbformat_minor": 2
}
