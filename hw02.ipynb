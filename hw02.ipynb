{
 "cells": [
  {
   "cell_type": "code",
   "execution_count": 19,
   "metadata": {
    "deletable": false,
    "editable": false
   },
   "outputs": [],
   "source": [
    "# Initialize Otter\n",
    "import otter\n",
    "grader = otter.Notebook(\"hw02.ipynb\")"
   ]
  },
  {
   "cell_type": "markdown",
   "metadata": {},
   "source": [
    "# Structures and dictionaries\n",
    "In this homework, we'll explore structures and in particular dictionaries, including what they might mean and what we can do with them. We start with a Facebook-like \"likes\" dictionary of who likes who. This is not reflexive. The fact that X likes Y does not mean that Y likes X! Run the following cell to create such a dictionary. "
   ]
  },
  {
   "cell_type": "code",
   "execution_count": 20,
   "metadata": {},
   "outputs": [
    {
     "name": "stdout",
     "output_type": "stream",
     "text": [
      "{'Amy': {'Mike'},\n",
      " 'Emily': {'Amy'},\n",
      " 'George': {'Mae', 'Frank', 'Emily'},\n",
      " 'John': {'Mike', 'Amy'},\n",
      " 'Mae': {'John'}}\n"
     ]
    }
   ],
   "source": [
    "likes = { \n",
    "     'Amy': {'Mike'}, \n",
    "     'John': {'Mike', 'Amy'}, \n",
    "     'Emily': {'Amy'},\n",
    "     'George': {'Frank', 'Emily', 'Mae'}, \n",
    "     'Mae': {'John'}\n",
    "}\n",
    "from pprint import pprint\n",
    "pprint(likes)"
   ]
  },
  {
   "cell_type": "markdown",
   "metadata": {},
   "source": [
    "<!-- BEGIN QUESTION -->\n",
    "\n",
    "Question 1: in the cell below, write a function that takes one argument that is a dictionary structured like the one above, and returns the whole set of people involved in the dictionary as either keys or parts of values. "
   ]
  },
  {
   "cell_type": "code",
   "execution_count": 21,
   "metadata": {
    "tags": []
   },
   "outputs": [],
   "source": [
    "def everyone(data):\n",
    "    result = set()\n",
    "    for x in data:\n",
    "        result.add(x)\n",
    "        for y in data[x]:\n",
    "            result.add(y)\n",
    "    return result"
   ]
  },
  {
   "cell_type": "code",
   "execution_count": 22,
   "metadata": {},
   "outputs": [
    {
     "data": {
      "text/plain": [
       "{'Amy', 'Emily', 'Frank', 'George', 'John', 'Mae', 'Mike'}"
      ]
     },
     "execution_count": 22,
     "metadata": {},
     "output_type": "execute_result"
    }
   ],
   "source": [
    "everyone(likes)"
   ]
  },
  {
   "cell_type": "code",
   "execution_count": 23,
   "metadata": {
    "deletable": false,
    "editable": false
   },
   "outputs": [
    {
     "data": {
      "text/html": [
       "<p><strong><pre style='display: inline;'>q1</pre></strong> passed!</p>"
      ],
      "text/plain": [
       "q1 results: All test cases passed!"
      ]
     },
     "execution_count": 23,
     "metadata": {},
     "output_type": "execute_result"
    }
   ],
   "source": [
    "grader.check(\"q1\")"
   ]
  },
  {
   "cell_type": "markdown",
   "metadata": {},
   "source": [
    "<!-- END QUESTION -->\n",
    "\n",
    "<!-- BEGIN QUESTION -->\n",
    "\n",
    "Question 2:  Write a function to determine who likes a specific person, based upon data in the dictionary. This is a matter of inverting the dictionary. "
   ]
  },
  {
   "cell_type": "code",
   "execution_count": 24,
   "metadata": {
    "tags": []
   },
   "outputs": [],
   "source": [
    "def wholikes(person, data):\n",
    "    result = set()\n",
    "    for x in data:\n",
    "        for y in data[x]:\n",
    "            if person == y:\n",
    "                result.add(x)\n",
    "    return result"
   ]
  },
  {
   "cell_type": "code",
   "execution_count": 25,
   "metadata": {},
   "outputs": [
    {
     "name": "stdout",
     "output_type": "stream",
     "text": [
      "who likes John?\n",
      "{'Mae'}\n",
      "who likes Amy?\n",
      "{'Emily', 'John'}\n"
     ]
    }
   ],
   "source": [
    "# Use this to test your code\n",
    "print(\"who likes John?\")\n",
    "pprint(wholikes('John', likes))\n",
    "print(\"who likes Amy?\")\n",
    "pprint(wholikes('Amy', likes))"
   ]
  },
  {
   "cell_type": "code",
   "execution_count": 26,
   "metadata": {
    "deletable": false,
    "editable": false
   },
   "outputs": [
    {
     "data": {
      "text/html": [
       "<p><strong><pre style='display: inline;'>q2</pre></strong> passed!</p>"
      ],
      "text/plain": [
       "q2 results: All test cases passed!"
      ]
     },
     "execution_count": 26,
     "metadata": {},
     "output_type": "execute_result"
    }
   ],
   "source": [
    "grader.check(\"q2\")"
   ]
  },
  {
   "cell_type": "markdown",
   "metadata": {},
   "source": [
    "<!-- END QUESTION -->\n",
    "\n",
    "<!-- BEGIN QUESTION -->\n",
    "\n",
    "Question 3: Write a function to invert the whole structure so that it describes who is liked rather than who likes who. In this structure -- call it `d` -- `d[person]` is the number of people who like `person`. Hint: if there's not a set for a person, you have to create it. Test whether there's a set via `person in output`."
   ]
  },
  {
   "cell_type": "code",
   "execution_count": 27,
   "metadata": {
    "tags": []
   },
   "outputs": [],
   "source": [
    "def invert(data):\n",
    "    result = dict()\n",
    "    for x in data:\n",
    "        for y in data[x]:\n",
    "            if y in result:\n",
    "                value = result.get(y)\n",
    "                value.add(x)\n",
    "                result.update({y: value})\n",
    "            else:\n",
    "                result.update({y: {x}})\n",
    "    return result"
   ]
  },
  {
   "cell_type": "code",
   "execution_count": 28,
   "metadata": {},
   "outputs": [
    {
     "name": "stdout",
     "output_type": "stream",
     "text": [
      "{'Amy': {'Emily', 'John'},\n",
      " 'Emily': {'George'},\n",
      " 'Frank': {'George'},\n",
      " 'John': {'Mae'},\n",
      " 'Mae': {'George'},\n",
      " 'Mike': {'John', 'Amy'}}\n",
      "{}\n"
     ]
    }
   ],
   "source": [
    "# Use this cell to test your code: \n",
    "pprint(invert(likes))\n",
    "pprint(invert(dict()))"
   ]
  },
  {
   "cell_type": "code",
   "execution_count": 29,
   "metadata": {
    "deletable": false,
    "editable": false
   },
   "outputs": [
    {
     "data": {
      "text/html": [
       "<p><strong><pre style='display: inline;'>q3</pre></strong> passed!</p>"
      ],
      "text/plain": [
       "q3 results: All test cases passed!"
      ]
     },
     "execution_count": 29,
     "metadata": {},
     "output_type": "execute_result"
    }
   ],
   "source": [
    "grader.check(\"q3\")"
   ]
  },
  {
   "cell_type": "markdown",
   "metadata": {},
   "source": [
    "<!-- END QUESTION -->\n",
    "\n",
    "<!-- BEGIN QUESTION -->\n",
    "\n",
    "Question 4: Does it make any difference at all whether we use sets or lists inside `likes`? What is the difference if we use lists? "
   ]
  },
  {
   "cell_type": "markdown",
   "metadata": {},
   "source": [
    "_Type your answer here, replacing this text._"
   ]
  },
  {
   "cell_type": "code",
   "execution_count": 30,
   "metadata": {
    "tags": []
   },
   "outputs": [
    {
     "data": {
      "text/plain": [
       "\"It makes no difference if we use sets or lists as long as there are no duplicates; Meaning, person A cannot like person B twice. \\n In a case where duplicates occur (which shouldn't), we would get duplicate results; \\n For example, if A likes B and B, the invert function will result in B being liked by A and A\\n  In summary, there is no difference as long as the likes follow the logic of being able to like a person only once.\\n\""
      ]
     },
     "execution_count": 30,
     "metadata": {},
     "output_type": "execute_result"
    }
   ],
   "source": [
    "'''It makes no difference if we use sets or lists as long as there are no duplicates; Meaning, person A cannot like person B twice. \n",
    " In a case where duplicates occur (which shouldn't), we would get duplicate results; \n",
    " For example, if A likes B and B, the invert function will result in B being liked by A and A\n",
    "  In summary, there is no difference as long as the likes follow the logic of being able to like a person only once.\n",
    "'''"
   ]
  },
  {
   "cell_type": "markdown",
   "metadata": {},
   "source": [
    "<!-- END QUESTION -->\n",
    "\n"
   ]
  },
  {
   "cell_type": "markdown",
   "metadata": {
    "deletable": false,
    "editable": false
   },
   "source": [
    "---\n",
    "\n",
    "To double-check your work, the cell below will rerun all of the autograder tests."
   ]
  },
  {
   "cell_type": "code",
   "execution_count": 31,
   "metadata": {
    "deletable": false,
    "editable": false
   },
   "outputs": [
    {
     "data": {
      "text/plain": [
       "q1 results: All test cases passed!\n",
       "\n",
       "q2 results: All test cases passed!\n",
       "\n",
       "q3 results: All test cases passed!"
      ]
     },
     "execution_count": 31,
     "metadata": {},
     "output_type": "execute_result"
    }
   ],
   "source": [
    "grader.check_all()"
   ]
  },
  {
   "cell_type": "markdown",
   "metadata": {
    "deletable": false,
    "editable": false
   },
   "source": [
    "## Submission\n",
    "\n",
    "Make sure you have run all cells in your notebook in order before running the cell below, so that all images/graphs appear in the output. The cell below will generate a zip file for you to submit. **Please save before exporting!**\n",
    "\n",
    "You are not done until you upload the exported zipfile to GradeScope."
   ]
  },
  {
   "cell_type": "code",
   "execution_count": 32,
   "metadata": {
    "deletable": false,
    "editable": false
   },
   "outputs": [
    {
     "data": {
      "text/html": [
       "\n",
       "            <p>Your submission has been exported. Click <a href=\"hw02_2021_09_24T12_59_51_537766.zip\" download=\"hw02_2021_09_24T12_59_51_537766.zip\" target=\"_blank\">here</a>\n",
       "            to download the zip file.</p>\n",
       "            "
      ],
      "text/plain": [
       "<IPython.core.display.HTML object>"
      ]
     },
     "metadata": {},
     "output_type": "display_data"
    }
   ],
   "source": [
    "# Save your notebook first, then run this cell to export your submission.\n",
    "grader.export(pdf=False)"
   ]
  },
  {
   "cell_type": "markdown",
   "metadata": {},
   "source": [
    " "
   ]
  }
 ],
 "metadata": {
  "kernelspec": {
   "display_name": "Python 3",
   "language": "python",
   "name": "python3"
  },
  "language_info": {
   "codemirror_mode": {
    "name": "ipython",
    "version": 3
   },
   "file_extension": ".py",
   "mimetype": "text/x-python",
   "name": "python",
   "nbconvert_exporter": "python",
   "pygments_lexer": "ipython3",
   "version": "3.8.8"
  },
  "otter": {
   "tests": {
    "q1": {
     "name": "q1",
     "points": 1,
     "suites": [
      {
       "cases": [
        {
         "code": ">>> assert everyone(likes) == {'Amy', 'Mike', 'John', 'Amy', 'Emily', 'George',  'Frank', 'Mae'}\n",
         "hidden": false,
         "locked": false
        },
        {
         "code": ">>> assert everyone({'foo': {'bar'}}) == {'foo', 'bar'}\n",
         "hidden": false,
         "locked": false
        },
        {
         "code": ">>> assert everyone({'foo': {}}) == {'foo'}\n",
         "hidden": false,
         "locked": false
        },
        {
         "code": ">>> assert everyone(dict()) == set()\n",
         "hidden": false,
         "locked": false
        }
       ],
       "scored": true,
       "setup": "",
       "teardown": "",
       "type": "doctest"
      }
     ]
    },
    "q2": {
     "name": "q2",
     "points": 1,
     "suites": [
      {
       "cases": [
        {
         "code": ">>> assert wholikes('Mike', likes) == {'Amy', 'John' } \n",
         "hidden": false,
         "locked": false
        },
        {
         "code": ">>> assert wholikes('cat', {'dog': {'cat'}}) == {'dog'}\n",
         "hidden": false,
         "locked": false
        },
        {
         "code": ">>> assert wholikes('dog', {'dog': {'cat'}}) == set()\n",
         "hidden": false,
         "locked": false
        },
        {
         "code": ">>> assert wholikes('dog', dict()) == set()\n",
         "hidden": false,
         "locked": false
        }
       ],
       "scored": true,
       "setup": "",
       "teardown": "",
       "type": "doctest"
      }
     ]
    },
    "q3": {
     "name": "q3",
     "points": 2,
     "suites": [
      {
       "cases": [
        {
         "code": ">>> assert invert({'dog': {'cat', 'rat'}}) == {'cat': {'dog'}, 'rat':{'dog'}} \n",
         "hidden": false,
         "locked": false
        },
        {
         "code": ">>> assert invert({'dog' : {'cat'}, 'rat': {'cat'}}) == {'cat' : {'rat', 'dog'}}\n",
         "hidden": false,
         "locked": false
        },
        {
         "code": ">>> assert invert(dict()) == dict()\n",
         "hidden": false,
         "locked": false
        }
       ],
       "scored": true,
       "setup": "",
       "teardown": "",
       "type": "doctest"
      }
     ]
    }
   }
  }
 },
 "nbformat": 4,
 "nbformat_minor": 2
}
