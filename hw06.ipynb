{
 "cells": [
  {
   "cell_type": "code",
   "execution_count": 6,
   "metadata": {
    "deletable": false,
    "editable": false
   },
   "outputs": [],
   "source": [
    "# Initialize Otter\n",
    "import otter\n",
    "grader = otter.Notebook(\"hw06.ipynb\")"
   ]
  },
  {
   "cell_type": "markdown",
   "metadata": {},
   "source": [
    "# Basic supervised learning\n",
    "\"Logistic regression\" is the simplest form of \"supervised learning\". We have a population of items, some of which are labeled but most of which are not labeled. The goal is to label the unlabeled items, based upon the items we have already labeled. In the case of basic logistic regression it is assumed that the categorizations to be learned are linear; i.e., they're characterized as hyperplanes in n-d space. Let's explore the effects of logistic regression by creating some examples and studying how well they work. \n",
    "\n",
    "A general note on automatic grading: In this assignment, passing the automatic tests does _not_ mean your answer is correct. _The automatic grader only checks format._ Your answer is also human-graded for content.  "
   ]
  },
  {
   "cell_type": "code",
   "execution_count": 7,
   "metadata": {},
   "outputs": [],
   "source": [
    "# Run this first to load all libraries. \n",
    "import numpy as np\n",
    "import pandas as pd\n",
    "import matplotlib.pyplot as mpl\n",
    "from sklearn.linear_model import LogisticRegression"
   ]
  },
  {
   "cell_type": "markdown",
   "metadata": {},
   "source": [
    "<!-- BEGIN QUESTION -->\n",
    "\n",
    "*Question 1:* Create a uniformly distributed 3-d space of 1000 points, named `df`, with columns `X`, `Y`, `Z` with values between 0 and 100 in floating point. Categorize the points according to the linear inequality `X + 2*Y + 3*Z < 200`, and create a `Categorical` column 'label' that has one of two values: \"inside\" or \"outside\", where \"inside\" columns obey the inequality. "
   ]
  },
  {
   "cell_type": "code",
   "execution_count": 8,
   "metadata": {
    "tags": []
   },
   "outputs": [],
   "source": [
    "df = pd.DataFrame(np.random.uniform(0,100,size=(1000, 3)), columns=['X','Y','Z'])\n",
    "def f(df):\n",
    "    inequality = df['X'] + 2*df['Y'] + 3*df['Z']\n",
    "    if inequality < 200:\n",
    "        return \"inside\"\n",
    "    else:\n",
    "        return \"outside\"\n",
    "df['label'] = df.apply(f, axis =1).astype('category')"
   ]
  },
  {
   "cell_type": "code",
   "execution_count": 4,
   "metadata": {
    "deletable": false,
    "editable": false
   },
   "outputs": [
    {
     "data": {
      "text/html": [
       "<p><strong><pre style='display: inline;'>q1</pre></strong> passed!</p>"
      ],
      "text/plain": [
       "q1 results: All test cases passed!"
      ]
     },
     "execution_count": 4,
     "metadata": {},
     "output_type": "execute_result"
    }
   ],
   "source": [
    "grader.check(\"q1\")"
   ]
  },
  {
   "cell_type": "markdown",
   "metadata": {},
   "source": [
    "<!-- END QUESTION -->\n",
    "\n",
    "<!-- BEGIN QUESTION -->\n",
    "\n",
    "*Question 2:* Simulate fuzzy categories by adding a normal error function with mean 0 and standard deviation 50 to each of `X`, `Y`, and `Z` in `df`, to create a new DataFrame `df2`.  "
   ]
  },
  {
   "cell_type": "code",
   "execution_count": 9,
   "metadata": {
    "tags": []
   },
   "outputs": [],
   "source": [
    "def add_noise(df, mean, std):\n",
    "    new_df = df.copy().drop(['label'], axis = 1)\n",
    "    new_df += np.random.normal(mean, std, size = (1000,3))\n",
    "    new_df['label'] = df['label']\n",
    "    return new_df\n",
    "\n",
    "df2 = add_noise(df, 0, 50)"
   ]
  },
  {
   "cell_type": "code",
   "execution_count": 6,
   "metadata": {
    "deletable": false,
    "editable": false
   },
   "outputs": [
    {
     "data": {
      "text/html": [
       "<p><strong><pre style='display: inline;'>q2</pre></strong> passed!</p>"
      ],
      "text/plain": [
       "q2 results: All test cases passed!"
      ]
     },
     "execution_count": 6,
     "metadata": {},
     "output_type": "execute_result"
    }
   ],
   "source": [
    "grader.check(\"q2\")"
   ]
  },
  {
   "cell_type": "markdown",
   "metadata": {},
   "source": [
    "<!-- END QUESTION -->\n",
    "\n",
    "<!-- BEGIN QUESTION -->\n",
    "\n",
    "*Question 3:* Do logistic regression on df2, to create a predictor for `label` from `X`, `Y`, `Z`. Put the output into `regr`. Hint: you will need to format columns of the `DataFrame` into an `ndarray` appropriate for regression. "
   ]
  },
  {
   "cell_type": "code",
   "execution_count": 10,
   "metadata": {
    "tags": []
   },
   "outputs": [],
   "source": [
    "def run_lr(df2): \n",
    "    regr = LogisticRegression(solver='lbfgs')  # avoid an annoying and meaningless warning\n",
    "    out = df2['label'].to_numpy()\n",
    "    data = df2.drop(['label'], axis = 1)\n",
    "    regr.fit(data, out)\n",
    "    return regr"
   ]
  },
  {
   "cell_type": "code",
   "execution_count": 11,
   "metadata": {
    "deletable": false,
    "editable": false
   },
   "outputs": [
    {
     "data": {
      "text/html": [
       "<p><strong><pre style='display: inline;'>q3</pre></strong> passed!</p>"
      ],
      "text/plain": [
       "q3 results: All test cases passed!"
      ]
     },
     "execution_count": 11,
     "metadata": {},
     "output_type": "execute_result"
    }
   ],
   "source": [
    "grader.check(\"q3\")"
   ]
  },
  {
   "cell_type": "markdown",
   "metadata": {},
   "source": [
    "<!-- END QUESTION -->\n",
    "\n",
    "<!-- BEGIN QUESTION -->\n",
    "\n",
    "*Question 4:* Perform a manual cross-validation on this fit. \n",
    "1. Create a new DataFrame df_train that contains the first 750 rows of df2.\n",
    "2. Create a new DataGrame df_test that contains the last 250 rows of df2. \n",
    "2. Fit a new logistic regression regr2 to df_train. \n",
    "3. Test this fit against the last 250 rows of df_test. \n",
    "4. Compute FP, FN, TP, TN, precision, recall, and F1 as defined in lecture. "
   ]
  },
  {
   "cell_type": "code",
   "execution_count": 9,
   "metadata": {
    "tags": []
   },
   "outputs": [
    {
     "name": "stdout",
     "output_type": "stream",
     "text": [
      "TP=2, TN=205\n",
      "FP=3, FN=40\n",
      "precision: 0.4\n",
      "recall: 0.047619047619047616\n",
      "F1: 0.0851063829787234\n"
     ]
    }
   ],
   "source": [
    "import numpy as np\n",
    "import pandas as pd\n",
    "from sklearn.linear_model import LogisticRegression\n",
    "from sklearn.metrics import confusion_matrix\n",
    "\n",
    "def run_xv(df):\n",
    "    regr2 = run_lr(df.iloc[:750])\n",
    "    \n",
    "    df_test = df.iloc[750:]\n",
    "    testY = df_test['label'].to_numpy()\n",
    "    testX = df_test.drop(['label'], axis = 1)\n",
    "\n",
    "    predY = regr2.predict(testX)\n",
    "    \n",
    "    TP = (sum((predY == 'inside') & (testY == 'inside')))\n",
    "    TN = (sum((predY == 'outside') & (testY == 'outside')))\n",
    "    FP = (sum((predY == 'inside') & (testY == 'outside')))\n",
    "    FN = (sum((predY == 'outside') & (testY == 'inside')))\n",
    "    \n",
    "    if ((TP + FP) == 0):\n",
    "        precision = 0\n",
    "    else:\n",
    "        precision = TP/(TP+FP)  \n",
    "    \n",
    "    if ((TP + FN) == 0):\n",
    "        recall = 0\n",
    "    else:\n",
    "        recall = TP/(TP+FN)\n",
    "    \n",
    "    if (precision == 0 or recall == 0):\n",
    "        F1 = 0\n",
    "    else:\n",
    "        F1 = 2/((1/precision) + (1/recall))\n",
    "\n",
    "    return (TP, TN, FP, FN, precision, recall, F1)\n",
    "\n",
    "# Run this to expose your results to me: \n",
    "results = run_xv(df2)\n",
    "TP = results[0]\n",
    "TN = results[1]\n",
    "FP = results[2]\n",
    "FN = results[3]\n",
    "precision = results[4]\n",
    "recall = results[5]\n",
    "F1 = results[6]\n",
    "print(\"TP={}, TN={}\".format(TP, TN))\n",
    "print(\"FP={}, FN={}\".format(FP, FN))\n",
    "print(\"precision: {}\".format(precision))\n",
    "print(\"recall: {}\".format(recall))\n",
    "print(\"F1: {}\".format(F1))"
   ]
  },
  {
   "cell_type": "code",
   "execution_count": 10,
   "metadata": {
    "deletable": false,
    "editable": false
   },
   "outputs": [
    {
     "data": {
      "text/html": [
       "<p><strong><pre style='display: inline;'>q4</pre></strong> passed!</p>"
      ],
      "text/plain": [
       "q4 results: All test cases passed!"
      ]
     },
     "execution_count": 10,
     "metadata": {},
     "output_type": "execute_result"
    }
   ],
   "source": [
    "grader.check(\"q4\")"
   ]
  },
  {
   "cell_type": "markdown",
   "metadata": {},
   "source": [
    "<!-- END QUESTION -->\n",
    "\n",
    "<!-- BEGIN QUESTION -->\n",
    "\n",
    "*Question 5:* Plot the relationship between the standard deviation of the noise in `df2` and the F1 score of the result. Show your result as a plot where `X` is the noise standard deviation and `Y` is the F1 score. \n",
    "\n",
    "Hints: try plotting stds between 0 and 100. Note that if the std is high enough, _the precision will be undefined!_ "
   ]
  },
  {
   "cell_type": "code",
   "execution_count": 11,
   "metadata": {
    "tags": []
   },
   "outputs": [
    {
     "data": {
      "image/png": "[encoded data removed]",
      "text/plain": [
       "<Figure size 432x288 with 1 Axes>"
      ]
     },
     "metadata": {
      "needs_background": "light"
     },
     "output_type": "display_data"
    }
   ],
   "source": [
    "import numpy as np\n",
    "import pandas as pd\n",
    "import matplotlib.pyplot as mpl\n",
    "from sklearn.linear_model import LogisticRegression\n",
    "\n",
    "f1 = []\n",
    "stds = list(range(0,100))\n",
    "for i in range(100):\n",
    "    d = add_noise(df, 0, i)\n",
    "    f1.append(run_xv(d)[6])\n",
    "\n",
    "#when F1 undefined (due to precision/recall), F1 set to 0\n",
    "\n",
    "mpl.xlabel('Standard Deviations');\n",
    "mpl.ylabel('F1 Score');\n",
    "mpl.plot(stds, f1, label = 'logistic regression')\n",
    "mpl.legend()\n",
    "mpl.show()"
   ]
  },
  {
   "cell_type": "markdown",
   "metadata": {
    "deletable": false,
    "editable": false
   },
   "source": [
    "---\n",
    "\n",
    "To double-check your work, the cell below will rerun all of the autograder tests."
   ]
  },
  {
   "cell_type": "code",
   "execution_count": 12,
   "metadata": {
    "deletable": false,
    "editable": false
   },
   "outputs": [
    {
     "data": {
      "text/plain": [
       "q1 results: All test cases passed!\n",
       "\n",
       "q2 results: All test cases passed!\n",
       "\n",
       "q3 results: All test cases passed!\n",
       "\n",
       "q4 results: All test cases passed!"
      ]
     },
     "execution_count": 12,
     "metadata": {},
     "output_type": "execute_result"
    }
   ],
   "source": [
    "grader.check_all()"
   ]
  },
  {
   "cell_type": "markdown",
   "metadata": {
    "deletable": false,
    "editable": false
   },
   "source": [
    "## Submission\n",
    "\n",
    "Make sure you have run all cells in your notebook in order before running the cell below, so that all images/graphs appear in the output. The cell below will generate a zip file for you to submit. **Please save before exporting!**\n",
    "\n",
    "You are not done until you upload the exported zipfile to GradeScope."
   ]
  },
  {
   "cell_type": "code",
   "execution_count": 13,
   "metadata": {
    "deletable": false,
    "editable": false
   },
   "outputs": [
    {
     "data": {
      "text/html": [
       "\n",
       "            <p>Your submission has been exported. Click <a href=\"hw06_2021_11_01T00_54_18_992420.zip\" download=\"hw06_2021_11_01T00_54_18_992420.zip\" target=\"_blank\">here</a>\n",
       "            to download the zip file.</p>\n",
       "            "
      ],
      "text/plain": [
       "<IPython.core.display.HTML object>"
      ]
     },
     "metadata": {},
     "output_type": "display_data"
    }
   ],
   "source": [
    "# Save your notebook first, then run this cell to export your submission.\n",
    "grader.export(pdf=False)"
   ]
  },
  {
   "cell_type": "markdown",
   "metadata": {},
   "source": [
    " "
   ]
  }
 ],
 "metadata": {
  "kernelspec": {
   "display_name": "Python 3 (ipykernel)",
   "language": "python",
   "name": "python3"
  },
  "language_info": {
   "codemirror_mode": {
    "name": "ipython",
    "version": 3
   },
   "file_extension": ".py",
   "mimetype": "text/x-python",
   "name": "python",
   "nbconvert_exporter": "python",
   "pygments_lexer": "ipython3",
   "version": "3.8.12"
  },
  "otter": {
   "tests": {
    "q1": {
     "name": "q1",
     "points": 1,
     "suites": [
      {
       "cases": [
        {
         "code": ">>> assert df.shape[0] == 1000\n",
         "hidden": false,
         "locked": false
        },
        {
         "code": ">>> assert df.shape[1] == 4\n",
         "hidden": false,
         "locked": false
        },
        {
         "code": ">>> assert (df.columns == ['X', 'Y', 'Z', 'label']).all()\n",
         "hidden": false,
         "locked": false
        },
        {
         "code": ">>> assert set(df['label'].dtype.categories.values) == set(['inside', 'outside'])\n",
         "hidden": false,
         "locked": false
        }
       ],
       "scored": true,
       "setup": "",
       "teardown": "",
       "type": "doctest"
      }
     ]
    },
    "q2": {
     "name": "q2",
     "points": 1,
     "suites": [
      {
       "cases": [
        {
         "code": ">>> assert df.shape[0] == 1000\n",
         "hidden": false,
         "locked": false
        },
        {
         "code": ">>> assert df.shape[1] == 4\n",
         "hidden": false,
         "locked": false
        },
        {
         "code": ">>> assert (df.columns == ['X', 'Y', 'Z', 'label']).all()\n",
         "hidden": false,
         "locked": false
        },
        {
         "code": ">>> assert set(df['label'].dtype.categories.values) == set(['inside', 'outside'])\n",
         "hidden": false,
         "locked": false
        }
       ],
       "scored": true,
       "setup": "",
       "teardown": "",
       "type": "doctest"
      }
     ]
    },
    "q3": {
     "name": "q3",
     "points": 1,
     "suites": [
      {
       "cases": [
        {
         "code": ">>> regr = run_lr(df2)\n>>> predicted = regr.predict(df2.loc[:, ['X', 'Y', 'Z']].values)\n>>> df3 = df2.copy()\n>>> df3['predicted'] = predicted\n>>> assert df3.loc[df3['predicted'] == df3['label'], 'label'].count() > 500\n",
         "hidden": false,
         "locked": false
        }
       ],
       "scored": true,
       "setup": "",
       "teardown": "",
       "type": "doctest"
      }
     ]
    },
    "q4": {
     "name": "q4",
     "points": 1,
     "suites": [
      {
       "cases": [
        {
         "code": ">>> results = run_xv(df2)\n>>> assert results[0] >= 0 and results[0] <= 250\n>>> assert results[1] >= 0 and results[1] <= 250\n>>> assert results[2] >= 0 and results[2] <= 250\n>>> assert results[3] >= 0 and results[3] <= 250\n>>> assert results[4] >= 0 and results[4] <= 1\n>>> assert results[5] >= 0 and results[5] <= 1\n>>> assert results[6] >= 0 and results[6] <= 1\n",
         "hidden": false,
         "locked": false
        }
       ],
       "scored": true,
       "setup": "",
       "teardown": "",
       "type": "doctest"
      }
     ]
    }
   }
  }
 },
 "nbformat": 4,
 "nbformat_minor": 2
}
