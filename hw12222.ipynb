{
 "cells": [
  {
   "cell_type": "code",
   "execution_count": 1,
   "metadata": {
    "deletable": false,
    "editable": false
   },
   "outputs": [],
   "source": [
    "# Initialize Otter\n",
    "import otter\n",
    "grader = otter.Notebook(\"hw12.ipynb\")"
   ]
  },
  {
   "cell_type": "markdown",
   "metadata": {},
   "source": [
    "# Social analysis\n",
    "We've discussed some elements of social analysis in class. Let's play with some of those concepts using the \"20 Newsgroups\" dataset. \n",
    "\n",
    "First, let's load this dataset in a new way, not eliminating the headers `From:` and `Subject:`. "
   ]
  },
  {
   "cell_type": "code",
   "execution_count": 2,
   "metadata": {
    "scrolled": true
   },
   "outputs": [
    {
     "data": {
      "text/plain": [
       "'From: qazi@csd4.csd.uwm.edu (Aamir Hafeez Qazi)\\nSubject: Re: Difference between Lexus 300 series?\\nArticle-I.D.: uwm.1pr5f8INN4om\\nReply-To: qazi@csd4.csd.uwm.edu\\nOrganization: University of Wisconsin - Milwaukee\\nLines: 18\\nNNTP-Posting-Host: 129.89.7.4\\nOriginator: qazi@csd4.csd.uwm.edu\\n\\nFrom article <1993Apr5.200048.23421@ucsu.Colorado.EDU>, by lorenzo@rintintin.Colorado.EDU (Eric Lorenzo):\\n\\n--Let me put it like this.  The only similarity between the three models\\n  is the \"300\", or 3-liter engine displacement.  Actually, the SC300 (the\\n  coupe) and the GS300 (the funky-looking new sedan) share the same 3.0\\n  liter inline-six, and the ES300 (popular small sedan) uses 3.0 V6 shared\\n  with the Camry.  The SC300 is a luxury/sports coupe, the GS300 is the new\\n  luxury sedan, and the ES300 is the base executive sedan.  All three look\\n  completely different.\\n\\n--Aamir Qazi\\n-- '"
      ]
     },
     "execution_count": 2,
     "metadata": {},
     "output_type": "execute_result"
    }
   ],
   "source": [
    "from sklearn.datasets import fetch_20newsgroups\n",
    "cats = ['rec.autos']  # only one newsgroup\n",
    "newsgroups = fetch_20newsgroups(categories=cats, remove=('footers', 'quotes',))  # leave headers for analysis\n",
    "newsgroups.data[0]"
   ]
  },
  {
   "cell_type": "markdown",
   "metadata": {},
   "source": [
    "Now, let's parse this into a list of Python dictionaries, including the `From:` and `Subject:` information for each post. "
   ]
  },
  {
   "cell_type": "code",
   "execution_count": 3,
   "metadata": {
    "scrolled": true
   },
   "outputs": [],
   "source": [
    "# Parse the newsgroup headers to determine who is writing and the subject of writing. \n",
    "parsed = []\n",
    "froms = {}\n",
    "subjects = {}\n",
    "for d in newsgroups.data:\n",
    "    stuff = d.split('\\n')\n",
    "    header = True\n",
    "    # Parse out header lines, saving only the significant lines \"From:\" and \"Subject:\"\n",
    "    lines = []\n",
    "    fromline = None \n",
    "    subject = None\n",
    "    for s in stuff:\n",
    "        if header: \n",
    "            if s.startswith('From: '):  # record identity of poster.\n",
    "                fromline = s[6:]\n",
    "                try:\n",
    "                    ind = fromline.index('(') \n",
    "                    fromline = fromline[:ind-1]\n",
    "                except: \n",
    "                    pass\n",
    "            elif s.startswith('Subject: '):  # record subject of post.\n",
    "                subject = s[9:]\n",
    "                if subject.startswith('Re: '):  # remove Re: for purposes of analysis\n",
    "                    subject = subject[4:]\n",
    "            elif s != '':\n",
    "                pass\n",
    "            else:  # header ends with a blank line.\n",
    "                header = False\n",
    "        else: \n",
    "            if len(s) <= 90: \n",
    "                lines.append(s)\n",
    "\n",
    "    if fromline is not None and subject is not None:  # skip blank headers\n",
    "        parsed.append({'from': fromline, 'subject': subject, 'lines': lines})\n",
    "        parsed[0]"
   ]
  },
  {
   "cell_type": "markdown",
   "metadata": {},
   "source": [
    "<!-- BEGIN QUESTION -->\n",
    "\n",
    "*Question 1:* Convert the above input `parsed` into a set of connectivity pairs `pairs` according to the following rubric: \n",
    "* The nodes are people's email addresses (the 'from' field of the data above). \n",
    "* There is an edge between person X and person Y whenever X and Y have written on the same `subject`. \n",
    "* In any pair, the first element is alphabetically less than the second element (to eliminate duplicates). \n",
    "\n",
    "*Hint:* You will have to construct a pair list yourself from the above data, by matching subjects between posts. Any two posts with the same subject generates one pair. "
   ]
  },
  {
   "cell_type": "code",
   "execution_count": 4,
   "metadata": {
    "tags": []
   },
   "outputs": [],
   "source": [
    "people = set()\n",
    "pairs = set()\n",
    "for p1 in parsed:\n",
    "    f1 = p1['from']\n",
    "    for p2 in parsed:\n",
    "        f2 = p2['from']\n",
    "        if f1 != f2:\n",
    "            if p1['subject'] == p2['subject']:\n",
    "                people.add(f1)\n",
    "                people.add(f2)\n",
    "                if f1<f2:\n",
    "                    pairs.add((f1,f2))\n",
    "                else:\n",
    "                    pairs.add((f2,f1))"
   ]
  },
  {
   "cell_type": "code",
   "execution_count": 5,
   "metadata": {
    "deletable": false,
    "editable": false
   },
   "outputs": [
    {
     "data": {
      "text/html": [
       "<p><strong><pre style='display: inline;'>q1</pre></strong> passed!</p>"
      ],
      "text/plain": [
       "q1 results: All test cases passed!"
      ]
     },
     "execution_count": 5,
     "metadata": {},
     "output_type": "execute_result"
    }
   ],
   "source": [
    "grader.check(\"q1\")"
   ]
  },
  {
   "cell_type": "markdown",
   "metadata": {},
   "source": [
    "<!-- END QUESTION -->\n",
    "\n",
    "<!-- BEGIN QUESTION -->\n",
    "\n",
    "*Question 2:* Read the pairs from above into a graph named `social_graph`."
   ]
  },
  {
   "cell_type": "code",
   "execution_count": 6,
   "metadata": {
    "tags": []
   },
   "outputs": [],
   "source": [
    "import networkx as nx\n",
    "social_graph = nx.Graph()\n",
    "    \n",
    "nodes = list(people)\n",
    "edges = list(pairs)\n",
    "\n",
    "social_graph.add_nodes_from(nodes)\n",
    "social_graph.add_edges_from(edges)"
   ]
  },
  {
   "cell_type": "code",
   "execution_count": 7,
   "metadata": {
    "deletable": false,
    "editable": false
   },
   "outputs": [
    {
     "data": {
      "text/html": [
       "<p><strong><pre style='display: inline;'>q2</pre></strong> passed!</p>"
      ],
      "text/plain": [
       "q2 results: All test cases passed!"
      ]
     },
     "execution_count": 7,
     "metadata": {},
     "output_type": "execute_result"
    }
   ],
   "source": [
    "grader.check(\"q2\")"
   ]
  },
  {
   "cell_type": "markdown",
   "metadata": {},
   "source": [
    "<!-- END QUESTION -->\n",
    "\n",
    "<!-- BEGIN QUESTION -->\n",
    "\n",
    "*Question 3:* Visualize the graph `social_graph` via the spring model. Don't bother labeling nodes as yet. "
   ]
  },
  {
   "cell_type": "code",
   "execution_count": 8,
   "metadata": {
    "tags": []
   },
   "outputs": [
    {
     "data": {
      "image/png": "[encoded data removed]",
      "text/plain": [
       "<Figure size 432x288 with 1 Axes>"
      ]
     },
     "metadata": {},
     "output_type": "display_data"
    }
   ],
   "source": [
    "import matplotlib.pyplot as plt\n",
    "spring_pos = nx.drawing.layout.spring_layout(social_graph)\n",
    "nx.drawing.nx_pylab.draw(social_graph, pos=spring_pos, node_size = 20)\n",
    "plt.title(\"SPRING LAYOUT\")\n",
    "plt.show()"
   ]
  },
  {
   "cell_type": "markdown",
   "metadata": {},
   "source": [
    "<!-- END QUESTION -->\n",
    "\n",
    "<!-- BEGIN QUESTION -->\n",
    "\n",
    "*Question 4:* Let's simplify the depiction above. First, let's separate the graph into connected components and eliminate nodes that are isolated from the core cluster. Then depict the remaining graph using spring layout. Call the new subgraph `core_graph`. \n",
    "\n",
    "*Hints:* use `nx.connected_components(G)` and `social_graph.subgraph(...)`. "
   ]
  },
  {
   "cell_type": "code",
   "execution_count": 9,
   "metadata": {
    "scrolled": true,
    "tags": []
   },
   "outputs": [
    {
     "data": {
      "image/png": "[encoded data removed]",
      "text/plain": [
       "<Figure size 432x288 with 1 Axes>"
      ]
     },
     "metadata": {},
     "output_type": "display_data"
    }
   ],
   "source": [
    "components = sorted(nx.connected_components(social_graph), key=len, reverse=True)\n",
    "remaining = components[0:1]\n",
    "core_graph = [social_graph.subgraph(r).copy() for r in remaining][0]\n",
    "\n",
    "nx.drawing.nx_pylab.draw(core_graph, pos=spring_pos, node_size = 30)\n",
    "plt.title(\"SPRING LAYOUT\")\n",
    "plt.show()"
   ]
  },
  {
   "cell_type": "code",
   "execution_count": 10,
   "metadata": {
    "deletable": false,
    "editable": false
   },
   "outputs": [
    {
     "data": {
      "text/html": [
       "<p><strong><pre style='display: inline;'>q4</pre></strong> passed!</p>"
      ],
      "text/plain": [
       "q4 results: All test cases passed!"
      ]
     },
     "execution_count": 10,
     "metadata": {},
     "output_type": "execute_result"
    }
   ],
   "source": [
    "grader.check(\"q4\")"
   ]
  },
  {
   "cell_type": "markdown",
   "metadata": {},
   "source": [
    "<!-- END QUESTION -->\n",
    "\n",
    "<!-- BEGIN QUESTION -->\n",
    "\n",
    "*Question 5:* Which person influences the most people? Print this person's ID, and then draw a version of the core graph where only the edges for this person are shown. Make the nodes nearly transparent (`alpha=0.1`) so that we can see the edges. \n",
    "\n",
    "*Hints:* the person who influences the most people corresponds to the node with maximum \"degree\". Use `Graph.degree(node)` and the `edgelist` parameter to `Graph.draw_networkx_edges`"
   ]
  },
  {
   "cell_type": "code",
   "execution_count": 11,
   "metadata": {
    "scrolled": false,
    "tags": []
   },
   "outputs": [
    {
     "name": "stdout",
     "output_type": "stream",
     "text": [
      "id of most influential person: cka52397@uxa.cso.uiuc.edu\n"
     ]
    },
    {
     "data": {
      "image/png": "[encoded data removed]",
      "text/plain": [
       "<Figure size 432x288 with 1 Axes>"
      ]
     },
     "metadata": {},
     "output_type": "display_data"
    }
   ],
   "source": [
    "degree = []\n",
    "list_people = list(remaining[0])\n",
    "for n in list(list_people):\n",
    "    degree.append(core_graph.degree(n))\n",
    "\n",
    "maxDeg = max(degree)\n",
    "index = degree.index(maxDeg)\n",
    "person = list_people[index]\n",
    "\n",
    "#person = cka52397@uxa.cso.uiuc.edu\n",
    "#max degree = 71\n",
    "edge_list = []\n",
    "for p in pairs:\n",
    "    if p[0] == person or p[1] == person:\n",
    "        edge_list.append(p)\n",
    "        \n",
    "nx.draw_networkx_edges(core_graph, pos=spring_pos, edgelist = edge_list)\n",
    "nx.draw_networkx_nodes(core_graph, pos=spring_pos, alpha = 0.1, node_size = 10)\n",
    "print(\"id of most influential person: \" + person)"
   ]
  },
  {
   "cell_type": "markdown",
   "metadata": {},
   "source": [
    "<!-- END QUESTION -->\n",
    "\n"
   ]
  },
  {
   "cell_type": "markdown",
   "metadata": {
    "deletable": false,
    "editable": false
   },
   "source": [
    "---\n",
    "\n",
    "To double-check your work, the cell below will rerun all of the autograder tests."
   ]
  },
  {
   "cell_type": "code",
   "execution_count": 12,
   "metadata": {
    "deletable": false,
    "editable": false
   },
   "outputs": [
    {
     "data": {
      "text/plain": [
       "q1 results: All test cases passed!\n",
       "\n",
       "q2 results: All test cases passed!\n",
       "\n",
       "q4 results: All test cases passed!"
      ]
     },
     "execution_count": 12,
     "metadata": {},
     "output_type": "execute_result"
    }
   ],
   "source": [
    "grader.check_all()"
   ]
  },
  {
   "cell_type": "markdown",
   "metadata": {
    "deletable": false,
    "editable": false
   },
   "source": [
    "## Submission\n",
    "\n",
    "Make sure you have run all cells in your notebook in order before running the cell below, so that all images/graphs appear in the output. The cell below will generate a zip file for you to submit. **Please save before exporting!**\n",
    "\n",
    "You are not done until you upload the exported zipfile to GradeScope."
   ]
  },
  {
   "cell_type": "code",
   "execution_count": 13,
   "metadata": {
    "deletable": false,
    "editable": false
   },
   "outputs": [
    {
     "data": {
      "text/html": [
       "\n",
       "            <p>Your submission has been exported. Click <a href=\"hw12_2021_12_16T04_08_32_588633.zip\" download=\"hw12_2021_12_16T04_08_32_588633.zip\" target=\"_blank\">here</a>\n",
       "            to download the zip file.</p>\n",
       "            "
      ],
      "text/plain": [
       "<IPython.core.display.HTML object>"
      ]
     },
     "metadata": {},
     "output_type": "display_data"
    }
   ],
   "source": [
    "# Save your notebook first, then run this cell to export your submission.\n",
    "grader.export(pdf=False)"
   ]
  },
  {
   "cell_type": "markdown",
   "metadata": {},
   "source": [
    " "
   ]
  }
 ],
 "metadata": {
  "kernelspec": {
   "display_name": "Python 3",
   "language": "python",
   "name": "python3"
  },
  "language_info": {
   "codemirror_mode": {
    "name": "ipython",
    "version": 3
   },
   "file_extension": ".py",
   "mimetype": "text/x-python",
   "name": "python",
   "nbconvert_exporter": "python",
   "pygments_lexer": "ipython3",
   "version": "3.8.8"
  },
  "otter": {
   "tests": {
    "q1": {
     "name": "q1",
     "points": 2,
     "suites": [
      {
       "cases": [
        {
         "code": ">>> assert isinstance(pairs, set)\n",
         "hidden": false,
         "locked": false
        },
        {
         "code": ">>> assert len(pairs) == 1437\n",
         "hidden": false,
         "locked": false
        },
        {
         "code": ">>> for p in pairs: \n...     assert isinstance(p, tuple)\n...     assert len(p) == 2\n...     assert p[0] < p[1]\n",
         "hidden": false,
         "locked": false
        },
        {
         "code": ">>> assert ('aas7@po.CWRU.Edu', 'boyle@cactus.org') in pairs\n",
         "hidden": false,
         "locked": false
        }
       ],
       "scored": true,
       "setup": "",
       "teardown": "",
       "type": "doctest"
      }
     ]
    },
    "q2": {
     "name": "q2",
     "points": 2,
     "suites": [
      {
       "cases": [
        {
         "code": ">>> assert isinstance(social_graph, nx.classes.graph.Graph)\n",
         "hidden": false,
         "locked": false
        },
        {
         "code": ">>> assert len(social_graph.edges) == 1437\n",
         "hidden": false,
         "locked": false
        },
        {
         "code": ">>> assert len(social_graph.nodes) == 247\n",
         "hidden": false,
         "locked": false
        },
        {
         "code": ">>> assert 'callison@uokmax.ecn.uoknor.edu' in social_graph.nodes\n",
         "hidden": false,
         "locked": false
        }
       ],
       "scored": true,
       "setup": "",
       "teardown": "",
       "type": "doctest"
      }
     ]
    },
    "q4": {
     "name": "q4",
     "points": 1,
     "suites": [
      {
       "cases": [
        {
         "code": ">>> assert isinstance(core_graph, nx.classes.graph.Graph)\n",
         "hidden": false,
         "locked": false
        },
        {
         "code": ">>> len(core_graph.nodes)\n197",
         "hidden": false,
         "locked": false
        },
        {
         "code": ">>> assert len(core_graph.edges) == 1403\n",
         "hidden": false,
         "locked": false
        },
        {
         "code": ">>> assert 'johnson@spectra.com' in core_graph.nodes\n",
         "hidden": false,
         "locked": false
        }
       ],
       "scored": true,
       "setup": "",
       "teardown": "",
       "type": "doctest"
      }
     ]
    }
   }
  }
 },
 "nbformat": 4,
 "nbformat_minor": 2
}
